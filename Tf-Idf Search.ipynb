{
 "cells": [
  {
   "cell_type": "markdown",
   "id": "b4695eb5",
   "metadata": {},
   "source": [
    "# Import libraries"
   ]
  },
  {
   "cell_type": "code",
   "execution_count": 2,
   "id": "34b09646",
   "metadata": {},
   "outputs": [
    {
     "name": "stderr",
     "output_type": "stream",
     "text": [
      "[nltk_data] Downloading package punkt to\n",
      "[nltk_data]     C:\\Users\\emirs\\AppData\\Roaming\\nltk_data...\n",
      "[nltk_data]   Package punkt is already up-to-date!\n"
     ]
    },
    {
     "data": {
      "text/plain": [
       "True"
      ]
     },
     "execution_count": 2,
     "metadata": {},
     "output_type": "execute_result"
    }
   ],
   "source": [
    "import pandas as pd\n",
    "import numpy as np\n",
    "import re\n",
    "import operator\n",
    "import pickle\n",
    "import nltk\n",
    "from sklearn.feature_extraction.text import TfidfVectorizer\n",
    "from nltk.tokenize import word_tokenize\n",
    "\n",
    "nltk.download('punkt')"
   ]
  },
  {
   "cell_type": "markdown",
   "id": "b151c1e7",
   "metadata": {},
   "source": [
    "### Load Data"
   ]
  },
  {
   "cell_type": "code",
   "execution_count": 3,
   "id": "026fb39e",
   "metadata": {},
   "outputs": [],
   "source": [
    "col_list = [\"Pageurl\", \"Title\", \"Manufacturer\", \"Model Name\"]\n",
    "dataset = pd.read_csv(\"marketing_sample_for_ebay_com-ebay_com_product__20210101_20210331__30k_data.csv\", usecols=col_list)"
   ]
  },
  {
   "cell_type": "markdown",
   "id": "43f7941d",
   "metadata": {},
   "source": [
    "### Data Cleaning"
   ]
  },
  {
   "cell_type": "code",
   "execution_count": 4,
   "id": "fcdd6860",
   "metadata": {},
   "outputs": [],
   "source": [
    "dataset['Title']=[str(entry).lower() for entry in dataset['Title']]"
   ]
  },
  {
   "cell_type": "code",
   "execution_count": 5,
   "id": "5e0ed570",
   "metadata": {},
   "outputs": [],
   "source": [
    "dataset['Title'] = dataset['Title'].replace(to_replace='[!\"#$%&\\'()*+,/:;<=>?@[\\\\]^_`{|}~]', value=' ', regex=True)\n",
    "dataset['Title'] = dataset['Title'].replace(to_replace='-', value=' ', regex=True)\n",
    "dataset['Title'] = dataset['Title'].replace(to_replace='  ', value=' ', regex=True)\n",
    "dataset['Title'] = dataset['Title'].replace(to_replace='！', value=' ', regex=True)"
   ]
  },
  {
   "cell_type": "code",
   "execution_count": 6,
   "id": "ce5affb9",
   "metadata": {
    "scrolled": true
   },
   "outputs": [
    {
     "data": {
      "text/html": [
       "<div>\n",
       "<style scoped>\n",
       "    .dataframe tbody tr th:only-of-type {\n",
       "        vertical-align: middle;\n",
       "    }\n",
       "\n",
       "    .dataframe tbody tr th {\n",
       "        vertical-align: top;\n",
       "    }\n",
       "\n",
       "    .dataframe thead th {\n",
       "        text-align: right;\n",
       "    }\n",
       "</style>\n",
       "<table border=\"1\" class=\"dataframe\">\n",
       "  <thead>\n",
       "    <tr style=\"text-align: right;\">\n",
       "      <th></th>\n",
       "      <th>Pageurl</th>\n",
       "      <th>Title</th>\n",
       "      <th>Manufacturer</th>\n",
       "      <th>Model Name</th>\n",
       "    </tr>\n",
       "  </thead>\n",
       "  <tbody>\n",
       "    <tr>\n",
       "      <th>0</th>\n",
       "      <td>https://www.ebay.com/p/7024512090?iid=16461748...</td>\n",
       "      <td>samsung galaxy note 8 6gb ram 64gb dual sim un...</td>\n",
       "      <td>Samsung</td>\n",
       "      <td>Samsung Galaxy Note8</td>\n",
       "    </tr>\n",
       "    <tr>\n",
       "      <th>1</th>\n",
       "      <td>https://www.ebay.com/itm/Apple-Airpods-Pro-wit...</td>\n",
       "      <td>apple airpods pro with wireless charging case ...</td>\n",
       "      <td>Apple Airpods Pro with wireless charging case ...</td>\n",
       "      <td>Apple Airpods Pro with wireless charging case ...</td>\n",
       "    </tr>\n",
       "    <tr>\n",
       "      <th>2</th>\n",
       "      <td>https://www.ebay.com/p/238211749?iid=174232921...</td>\n",
       "      <td>apple ipad pro 1st gen. 64gb wi fi  4g unlocke...</td>\n",
       "      <td>Apple</td>\n",
       "      <td>Apple iPad Pro (1st Generation)</td>\n",
       "    </tr>\n",
       "    <tr>\n",
       "      <th>3</th>\n",
       "      <td>https://www.ebay.com/itm/Nintendo-wii-console-...</td>\n",
       "      <td>nintendo wii console fit board and games bundle</td>\n",
       "      <td>Nintendo wii console fit board and games bundle</td>\n",
       "      <td>Nintendo wii console fit board and games bundle</td>\n",
       "    </tr>\n",
       "    <tr>\n",
       "      <th>4</th>\n",
       "      <td>https://www.ebay.com/itm/Fossil-smart-watch/16...</td>\n",
       "      <td>fossil smart watch</td>\n",
       "      <td>Fossil smart watch</td>\n",
       "      <td>Fossil smart watch</td>\n",
       "    </tr>\n",
       "  </tbody>\n",
       "</table>\n",
       "</div>"
      ],
      "text/plain": [
       "                                             Pageurl  \\\n",
       "0  https://www.ebay.com/p/7024512090?iid=16461748...   \n",
       "1  https://www.ebay.com/itm/Apple-Airpods-Pro-wit...   \n",
       "2  https://www.ebay.com/p/238211749?iid=174232921...   \n",
       "3  https://www.ebay.com/itm/Nintendo-wii-console-...   \n",
       "4  https://www.ebay.com/itm/Fossil-smart-watch/16...   \n",
       "\n",
       "                                               Title  \\\n",
       "0  samsung galaxy note 8 6gb ram 64gb dual sim un...   \n",
       "1  apple airpods pro with wireless charging case ...   \n",
       "2  apple ipad pro 1st gen. 64gb wi fi  4g unlocke...   \n",
       "3    nintendo wii console fit board and games bundle   \n",
       "4                                 fossil smart watch   \n",
       "\n",
       "                                        Manufacturer  \\\n",
       "0                                            Samsung   \n",
       "1  Apple Airpods Pro with wireless charging case ...   \n",
       "2                                              Apple   \n",
       "3    Nintendo wii console fit board and games bundle   \n",
       "4                                 Fossil smart watch   \n",
       "\n",
       "                                          Model Name  \n",
       "0                               Samsung Galaxy Note8  \n",
       "1  Apple Airpods Pro with wireless charging case ...  \n",
       "2                    Apple iPad Pro (1st Generation)  \n",
       "3    Nintendo wii console fit board and games bundle  \n",
       "4                                 Fossil smart watch  "
      ]
     },
     "execution_count": 6,
     "metadata": {},
     "output_type": "execute_result"
    }
   ],
   "source": [
    "dataset.head()"
   ]
  },
  {
   "cell_type": "code",
   "execution_count": 7,
   "id": "ec1f5589",
   "metadata": {},
   "outputs": [],
   "source": [
    "dataset['Word tokenize']= [word_tokenize(entry) for entry in dataset['Title']]"
   ]
  },
  {
   "cell_type": "markdown",
   "id": "dabefa19",
   "metadata": {},
   "source": [
    "## TF-IDF Search Vector"
   ]
  },
  {
   "cell_type": "code",
   "execution_count": 8,
   "id": "6e111e2e",
   "metadata": {
    "scrolled": true
   },
   "outputs": [],
   "source": [
    "vocabulary = set()\n",
    "\n",
    "for doc in dataset['Title']:\n",
    "    vocabulary.update(doc.split(' '))\n",
    "    \n",
    "vocabulary = list(vocabulary)\n",
    "\n",
    "tfidf = TfidfVectorizer(vocabulary=vocabulary, dtype=np.float32)\n",
    "tfidf.fit(dataset['Title'])\n",
    "tfidf_tran = tfidf.transform(dataset['Title'])\n"
   ]
  },
  {
   "cell_type": "code",
   "execution_count": 9,
   "id": "f9543c0e",
   "metadata": {},
   "outputs": [
    {
     "data": {
      "text/plain": [
       "['',\n",
       " 'satsystem',\n",
       " 'm3888',\n",
       " 'psp',\n",
       " 'shl3060bk',\n",
       " 'l8star',\n",
       " '32ft',\n",
       " '8145u',\n",
       " 'otter',\n",
       " 'fun']"
      ]
     },
     "execution_count": 9,
     "metadata": {},
     "output_type": "execute_result"
    }
   ],
   "source": [
    "vocabulary[0:10]"
   ]
  },
  {
   "cell_type": "code",
   "execution_count": 10,
   "id": "95463622",
   "metadata": {},
   "outputs": [],
   "source": [
    "with open('C:\\\\Users\\\\emirs\\\\PycharmProjects\\\\tf-idf\\\\tfidf.pkl', 'wb') as handle:\n",
    "    pickle.dump(tfidf_tran,handle)"
   ]
  },
  {
   "cell_type": "code",
   "execution_count": 11,
   "id": "e09bbaab",
   "metadata": {},
   "outputs": [],
   "source": [
    "t = pickle.load(open('C:\\\\Users\\\\emirs\\\\PycharmProjects\\\\tf-idf\\\\tfidf.pkl', 'rb'))"
   ]
  },
  {
   "cell_type": "code",
   "execution_count": 12,
   "id": "ca33af5b",
   "metadata": {
    "scrolled": false
   },
   "outputs": [
    {
     "ename": "UnicodeEncodeError",
     "evalue": "'charmap' codec can't encode characters in position 456-459: character maps to <undefined>",
     "output_type": "error",
     "traceback": [
      "\u001b[1;31m---------------------------------------------------------------------------\u001b[0m",
      "\u001b[1;31mUnicodeEncodeError\u001b[0m                        Traceback (most recent call last)",
      "\u001b[1;32m~\\AppData\\Local\\Temp/ipykernel_20740/68641387.py\u001b[0m in \u001b[0;36m<module>\u001b[1;34m\u001b[0m\n\u001b[0;32m      1\u001b[0m \u001b[1;32mwith\u001b[0m \u001b[0mopen\u001b[0m\u001b[1;33m(\u001b[0m\u001b[1;34m'C:\\\\Users\\\\emirs\\\\PycharmProjects\\\\tf-idf\\\\vocabulary_dataset.txt'\u001b[0m\u001b[1;33m,\u001b[0m \u001b[1;34m'w'\u001b[0m\u001b[1;33m)\u001b[0m \u001b[1;32mas\u001b[0m \u001b[0mfile\u001b[0m\u001b[1;33m:\u001b[0m\u001b[1;33m\u001b[0m\u001b[1;33m\u001b[0m\u001b[0m\n\u001b[1;32m----> 2\u001b[1;33m     \u001b[0mfile\u001b[0m\u001b[1;33m.\u001b[0m\u001b[0mwrite\u001b[0m\u001b[1;33m(\u001b[0m\u001b[0mstr\u001b[0m\u001b[1;33m(\u001b[0m\u001b[0mvocabulary\u001b[0m\u001b[1;33m)\u001b[0m\u001b[1;33m)\u001b[0m\u001b[1;33m\u001b[0m\u001b[1;33m\u001b[0m\u001b[0m\n\u001b[0m",
      "\u001b[1;32mE:\\Anaconda\\lib\\encodings\\cp1254.py\u001b[0m in \u001b[0;36mencode\u001b[1;34m(self, input, final)\u001b[0m\n\u001b[0;32m     17\u001b[0m \u001b[1;32mclass\u001b[0m \u001b[0mIncrementalEncoder\u001b[0m\u001b[1;33m(\u001b[0m\u001b[0mcodecs\u001b[0m\u001b[1;33m.\u001b[0m\u001b[0mIncrementalEncoder\u001b[0m\u001b[1;33m)\u001b[0m\u001b[1;33m:\u001b[0m\u001b[1;33m\u001b[0m\u001b[1;33m\u001b[0m\u001b[0m\n\u001b[0;32m     18\u001b[0m     \u001b[1;32mdef\u001b[0m \u001b[0mencode\u001b[0m\u001b[1;33m(\u001b[0m\u001b[0mself\u001b[0m\u001b[1;33m,\u001b[0m \u001b[0minput\u001b[0m\u001b[1;33m,\u001b[0m \u001b[0mfinal\u001b[0m\u001b[1;33m=\u001b[0m\u001b[1;32mFalse\u001b[0m\u001b[1;33m)\u001b[0m\u001b[1;33m:\u001b[0m\u001b[1;33m\u001b[0m\u001b[1;33m\u001b[0m\u001b[0m\n\u001b[1;32m---> 19\u001b[1;33m         \u001b[1;32mreturn\u001b[0m \u001b[0mcodecs\u001b[0m\u001b[1;33m.\u001b[0m\u001b[0mcharmap_encode\u001b[0m\u001b[1;33m(\u001b[0m\u001b[0minput\u001b[0m\u001b[1;33m,\u001b[0m\u001b[0mself\u001b[0m\u001b[1;33m.\u001b[0m\u001b[0merrors\u001b[0m\u001b[1;33m,\u001b[0m\u001b[0mencoding_table\u001b[0m\u001b[1;33m)\u001b[0m\u001b[1;33m[\u001b[0m\u001b[1;36m0\u001b[0m\u001b[1;33m]\u001b[0m\u001b[1;33m\u001b[0m\u001b[1;33m\u001b[0m\u001b[0m\n\u001b[0m\u001b[0;32m     20\u001b[0m \u001b[1;33m\u001b[0m\u001b[0m\n\u001b[0;32m     21\u001b[0m \u001b[1;32mclass\u001b[0m \u001b[0mIncrementalDecoder\u001b[0m\u001b[1;33m(\u001b[0m\u001b[0mcodecs\u001b[0m\u001b[1;33m.\u001b[0m\u001b[0mIncrementalDecoder\u001b[0m\u001b[1;33m)\u001b[0m\u001b[1;33m:\u001b[0m\u001b[1;33m\u001b[0m\u001b[1;33m\u001b[0m\u001b[0m\n",
      "\u001b[1;31mUnicodeEncodeError\u001b[0m: 'charmap' codec can't encode characters in position 456-459: character maps to <undefined>"
     ]
    }
   ],
   "source": [
    "with open('C:\\\\Users\\\\emirs\\\\PycharmProjects\\\\tf-idf\\\\vocabulary_dataset.txt', 'w') as file:\n",
    "    file.write(str(vocabulary))"
   ]
  },
  {
   "cell_type": "code",
   "execution_count": null,
   "id": "fff6b3e2",
   "metadata": {
    "scrolled": true
   },
   "outputs": [],
   "source": [
    "with open(\"C:\\\\Users\\\\emirs\\\\PycharmProjects\\\\tf-idf\\\\vocabulary_dataset.txt\", \"r\") as file:\n",
    "    data2 = eval(file.readline())"
   ]
  },
  {
   "cell_type": "code",
   "execution_count": 15,
   "id": "3b678f04",
   "metadata": {},
   "outputs": [],
   "source": [
    "def GenVectorT(tokens):\n",
    "    Q = np.zeros((len(vocabulary)))\n",
    "    \n",
    "    x = tfidf.transform(tokens)\n",
    "    for token in tokens[0].split(' '):\n",
    "        try:\n",
    "            ind = vocabulary.index(token)\n",
    "            Q[ind] = x[0, tfidf.vocabulary_[token]]\n",
    "        except:\n",
    "            pass\n",
    "    return Q"
   ]
  },
  {
   "cell_type": "code",
   "execution_count": 16,
   "id": "0b5f03cd",
   "metadata": {},
   "outputs": [],
   "source": [
    "def CosineSimilarity(a, b):\n",
    "    cos_sim = np.dot(a, b)/(np.linalg.norm(a)*np.linalg.norm(b))\n",
    "    return cos_sim"
   ]
  },
  {
   "cell_type": "code",
   "execution_count": 17,
   "id": "828f3153",
   "metadata": {},
   "outputs": [],
   "source": [
    "def CosineSimilarity_T(k, query):\n",
    "    preprocessed_query = preprocessed_query = re.sub(\"\\W+\", \" \", query).strip()\n",
    "    tokens = word_tokenize(str(preprocessed_query))\n",
    "    \n",
    "    q_df = pd.DataFrame(columns=['q_clean'])\n",
    "    q_df.loc[0,'q_clean'] =tokens\n",
    "    q_df['q_clean'] = dataset['Title']\n",
    "    \n",
    "    q_df=q_df.replace(to_replace =\"\\[.\", value = '', regex = True)\n",
    "    q_df=q_df.replace(to_replace =\"'\", value = '', regex = True)\n",
    "    q_df=q_df.replace(to_replace =\" \", value = '', regex = True)\n",
    "    q_df=q_df.replace(to_replace ='\\]', value = '', regex = True)\n",
    "    \n",
    "    d_cosines = []\n",
    "    query_vector = GenVectorT(q_df['q_clean'])\n",
    "    \n",
    "    for d in tfidf_tran.A:\n",
    "        d_cosines.append(CosineSimilarity(query_vector, d))\n",
    "        #print(query_vector)\n",
    "        #print(d)\n",
    "        \n",
    "    out = np.array(d_cosines).argsort()[-k:][::-1]\n",
    "    d_cosines.sort()\n",
    "    \n",
    "    a = pd.DataFrame()\n",
    "    for i,index in enumerate(out):\n",
    "        a.loc[i,'index'] = str(index)\n",
    "        a.loc[i,'Title'] = dataset['Title'][index]\n",
    "    for j,simScore in enumerate(d_cosines[-k:][::-1]):\n",
    "        a.loc[j,'Score'] = simScore\n",
    "    return a"
   ]
  },
  {
   "cell_type": "code",
   "execution_count": 18,
   "id": "6e7ef450",
   "metadata": {},
   "outputs": [
    {
     "name": "stderr",
     "output_type": "stream",
     "text": [
      "C:\\Users\\emirs\\AppData\\Local\\Temp/ipykernel_20740/3340107106.py:2: RuntimeWarning: invalid value encountered in double_scalars\n",
      "  cos_sim = np.dot(a, b)/(np.linalg.norm(a)*np.linalg.norm(b))\n"
     ]
    },
    {
     "name": "stdout",
     "output_type": "stream",
     "text": [
      "Wall time: 3.41 s\n"
     ]
    },
    {
     "data": {
      "text/html": [
       "<div>\n",
       "<style scoped>\n",
       "    .dataframe tbody tr th:only-of-type {\n",
       "        vertical-align: middle;\n",
       "    }\n",
       "\n",
       "    .dataframe tbody tr th {\n",
       "        vertical-align: top;\n",
       "    }\n",
       "\n",
       "    .dataframe thead th {\n",
       "        text-align: right;\n",
       "    }\n",
       "</style>\n",
       "<table border=\"1\" class=\"dataframe\">\n",
       "  <thead>\n",
       "    <tr style=\"text-align: right;\">\n",
       "      <th></th>\n",
       "      <th>index</th>\n",
       "      <th>Title</th>\n",
       "      <th>Score</th>\n",
       "    </tr>\n",
       "  </thead>\n",
       "  <tbody>\n",
       "    <tr>\n",
       "      <th>0</th>\n",
       "      <td>29969</td>\n",
       "      <td>apple iphone se 2. gen  64gb  schwarz ohne sim...</td>\n",
       "      <td>NaN</td>\n",
       "    </tr>\n",
       "    <tr>\n",
       "      <th>1</th>\n",
       "      <td>9993</td>\n",
       "      <td>hampton bay wired door chime in white r29l 6 t...</td>\n",
       "      <td>NaN</td>\n",
       "    </tr>\n",
       "    <tr>\n",
       "      <th>2</th>\n",
       "      <td>9981</td>\n",
       "      <td>mecool kd1 android tv stick</td>\n",
       "      <td>NaN</td>\n",
       "    </tr>\n",
       "    <tr>\n",
       "      <th>3</th>\n",
       "      <td>9982</td>\n",
       "      <td>beats solo 3 wireless headphones</td>\n",
       "      <td>NaN</td>\n",
       "    </tr>\n",
       "    <tr>\n",
       "      <th>4</th>\n",
       "      <td>9983</td>\n",
       "      <td>honeywell 200m wireless doorbell kit with rope...</td>\n",
       "      <td>NaN</td>\n",
       "    </tr>\n",
       "    <tr>\n",
       "      <th>5</th>\n",
       "      <td>9984</td>\n",
       "      <td>rlx bluetooth stereo headset blue green</td>\n",
       "      <td>NaN</td>\n",
       "    </tr>\n",
       "    <tr>\n",
       "      <th>6</th>\n",
       "      <td>9985</td>\n",
       "      <td>mobile siemens sl 55</td>\n",
       "      <td>NaN</td>\n",
       "    </tr>\n",
       "    <tr>\n",
       "      <th>7</th>\n",
       "      <td>9986</td>\n",
       "      <td>qrh00880b security cameras</td>\n",
       "      <td>NaN</td>\n",
       "    </tr>\n",
       "    <tr>\n",
       "      <th>8</th>\n",
       "      <td>9987</td>\n",
       "      <td>airbag vest for motorcycle. protection for bac...</td>\n",
       "      <td>NaN</td>\n",
       "    </tr>\n",
       "    <tr>\n",
       "      <th>9</th>\n",
       "      <td>9988</td>\n",
       "      <td>apple iphone xr mry62b a a2105 12mp 6.1 64gb d...</td>\n",
       "      <td>NaN</td>\n",
       "    </tr>\n",
       "  </tbody>\n",
       "</table>\n",
       "</div>"
      ],
      "text/plain": [
       "   index                                              Title  Score\n",
       "0  29969  apple iphone se 2. gen  64gb  schwarz ohne sim...    NaN\n",
       "1   9993  hampton bay wired door chime in white r29l 6 t...    NaN\n",
       "2   9981                        mecool kd1 android tv stick    NaN\n",
       "3   9982                   beats solo 3 wireless headphones    NaN\n",
       "4   9983  honeywell 200m wireless doorbell kit with rope...    NaN\n",
       "5   9984            rlx bluetooth stereo headset blue green    NaN\n",
       "6   9985                               mobile siemens sl 55    NaN\n",
       "7   9986                         qrh00880b security cameras    NaN\n",
       "8   9987  airbag vest for motorcycle. protection for bac...    NaN\n",
       "9   9988  apple iphone xr mry62b a a2105 12mp 6.1 64gb d...    NaN"
      ]
     },
     "execution_count": 18,
     "metadata": {},
     "output_type": "execute_result"
    }
   ],
   "source": [
    "%time CosineSimilarity_T(10,'apple')"
   ]
  },
  {
   "cell_type": "code",
   "execution_count": 19,
   "id": "9890508b",
   "metadata": {},
   "outputs": [
    {
     "name": "stderr",
     "output_type": "stream",
     "text": [
      "C:\\Users\\emirs\\AppData\\Local\\Temp/ipykernel_20740/3340107106.py:2: RuntimeWarning: invalid value encountered in double_scalars\n",
      "  cos_sim = np.dot(a, b)/(np.linalg.norm(a)*np.linalg.norm(b))\n"
     ]
    },
    {
     "name": "stdout",
     "output_type": "stream",
     "text": [
      "   index                                              Title  Score\n",
      "0  29969  apple iphone se 2. gen  64gb  schwarz ohne sim...    NaN\n",
      "1   9993  hampton bay wired door chime in white r29l 6 t...    NaN\n",
      "2   9981                        mecool kd1 android tv stick    NaN\n",
      "3   9982                   beats solo 3 wireless headphones    NaN\n",
      "4   9983  honeywell 200m wireless doorbell kit with rope...    NaN\n",
      "5   9984            rlx bluetooth stereo headset blue green    NaN\n",
      "6   9985                               mobile siemens sl 55    NaN\n",
      "7   9986                         qrh00880b security cameras    NaN\n",
      "8   9987  airbag vest for motorcycle. protection for bac...    NaN\n",
      "9   9988  apple iphone xr mry62b a a2105 12mp 6.1 64gb d...    NaN\n"
     ]
    }
   ],
   "source": [
    "print(CosineSimilarity_T(10,'samsung'))"
   ]
  },
  {
   "cell_type": "code",
   "execution_count": null,
   "id": "f99c74e1",
   "metadata": {},
   "outputs": [],
   "source": []
  }
 ],
 "metadata": {
  "kernelspec": {
   "display_name": "Python 3 (ipykernel)",
   "language": "python",
   "name": "python3"
  },
  "language_info": {
   "codemirror_mode": {
    "name": "ipython",
    "version": 3
   },
   "file_extension": ".py",
   "mimetype": "text/x-python",
   "name": "python",
   "nbconvert_exporter": "python",
   "pygments_lexer": "ipython3",
   "version": "3.9.7"
  }
 },
 "nbformat": 4,
 "nbformat_minor": 5
}
